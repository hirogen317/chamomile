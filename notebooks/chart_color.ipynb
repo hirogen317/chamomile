{
 "cells": [
  {
   "cell_type": "code",
   "execution_count": 22,
   "metadata": {},
   "outputs": [],
   "source": [
    "# default_exp chart.color"
   ]
  },
  {
   "cell_type": "markdown",
   "metadata": {},
   "source": [
    "# chart.color\n",
    "\n",
    "> Class define the color for charting\n",
    "\n",
    "- toc: True"
   ]
  },
  {
   "cell_type": "code",
   "execution_count": null,
   "metadata": {},
   "outputs": [],
   "source": []
  },
  {
   "cell_type": "code",
   "execution_count": 23,
   "metadata": {},
   "outputs": [],
   "source": [
    "#export\n",
    "from chamomile.util.dotdict import dotdict\n",
    "from bokeh.palettes import Category20\n",
    "from bokeh.transform import factor_cmap"
   ]
  },
  {
   "cell_type": "code",
   "execution_count": 24,
   "metadata": {},
   "outputs": [],
   "source": [
    "#export\n",
    "default_palette = Category20[20]\n",
    "color_types = dotdict({'stress': default_palette[6], 'background': default_palette[14],\n",
    "                       'first': default_palette[0], 'second': default_palette[2], 'third': default_palette[4]})\n",
    "palette_contrast2 = [color_types.stress, color_types.background]\n",
    "palette_compare3 = [color_types.first, color_types.second, color_types.stress]"
   ]
  },
  {
   "cell_type": "code",
   "execution_count": 25,
   "metadata": {},
   "outputs": [],
   "source": [
    "#export\n",
    "class BaseColor():\n",
    "    MODE_LOOP = 'loop'\n",
    "    MODE_LAST = 'last'\n",
    "    def __init__(self, palette=palette_contrast2, mode=None):\n",
    "        self._palette = palette\n",
    "        if mode is None:\n",
    "            self._mode = BaseColor.MODE_LOOP\n",
    "        else:\n",
    "            self._mode = mode\n",
    "        self._cursor = 0\n",
    "    \n",
    "    @property\n",
    "    def palette(self):\n",
    "        return self._palette\n",
    "    \n",
    "    @property\n",
    "    def mode(self):\n",
    "        return self._mode\n",
    "    \n",
    "    def reset(self):\n",
    "        self._cursor = 0\n",
    "    \n",
    "    def next_color(self):\n",
    "        color = self.color_by_cursor()\n",
    "        self._cursor += 1\n",
    "        #print(color)\n",
    "        return color\n",
    "    \n",
    "    def current_color(self):\n",
    "        return self.color_by_cursor()\n",
    "    \n",
    "    def color_by_cursor(self):\n",
    "        if self._palette is None and len(self._palette) == 0:\n",
    "            raise Exception(\"Color not set\")\n",
    "        if self._cursor < len(self._palette):\n",
    "            return self._palette[self._cursor]\n",
    "        elif self._cursor >= len(self._palette):\n",
    "            if self._mode == BaseColor.MODE_LOOP:\n",
    "                self._cursor = self._cursor % len(self._palette)\n",
    "                return self._palette[self._cursor]\n",
    "            elif self._mode == BaseColor.MODE_LAST:\n",
    "                return self._palette[-1]\n",
    "    \n",
    "class ColorDefault(BaseColor):\n",
    "    def __init__(self):\n",
    "        super().__init__(default_palette, BaseColor.MODE_LOOP)\n",
    "\n",
    "        \n",
    "class ColorContrast2(BaseColor):\n",
    "    def __init__(self):\n",
    "        super().__init__(palette_contrast2, BaseColor.MODE_LAST)\n",
    "        \n",
    "class ColorCompare3(BaseColor):\n",
    "    def __init__(self):\n",
    "        super().__init__(palette_compare3, BaseColor.MODE_LAST)"
   ]
  },
  {
   "cell_type": "code",
   "execution_count": null,
   "metadata": {},
   "outputs": [],
   "source": []
  },
  {
   "cell_type": "code",
   "execution_count": null,
   "metadata": {},
   "outputs": [],
   "source": []
  },
  {
   "cell_type": "code",
   "execution_count": null,
   "metadata": {},
   "outputs": [],
   "source": []
  }
 ],
 "metadata": {
  "hide_input": false,
  "kernelspec": {
   "display_name": "Python 3",
   "language": "python",
   "name": "python3"
  },
  "language_info": {
   "codemirror_mode": {
    "name": "ipython",
    "version": 3
   },
   "file_extension": ".py",
   "mimetype": "text/x-python",
   "name": "python",
   "nbconvert_exporter": "python",
   "pygments_lexer": "ipython3",
   "version": "3.7.0"
  },
  "toc": {
   "base_numbering": 1,
   "nav_menu": {},
   "number_sections": true,
   "sideBar": true,
   "skip_h1_title": false,
   "title_cell": "Table of Contents",
   "title_sidebar": "Contents",
   "toc_cell": false,
   "toc_position": {},
   "toc_section_display": true,
   "toc_window_display": false
  }
 },
 "nbformat": 4,
 "nbformat_minor": 4
}
