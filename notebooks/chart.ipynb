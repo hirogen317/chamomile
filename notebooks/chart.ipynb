{
 "cells": [
  {
   "cell_type": "code",
   "execution_count": 24,
   "metadata": {},
   "outputs": [],
   "source": [
    "# default_exp chart.chart"
   ]
  },
  {
   "cell_type": "code",
   "execution_count": 12,
   "metadata": {},
   "outputs": [
    {
     "name": "stdout",
     "output_type": "stream",
     "text": [
      "The autoreload extension is already loaded. To reload it, use:\n",
      "  %reload_ext autoreload\n"
     ]
    }
   ],
   "source": [
    "# hide\n",
    "%load_ext autoreload\n",
    "%autoreload"
   ]
  },
  {
   "cell_type": "code",
   "execution_count": 13,
   "metadata": {},
   "outputs": [],
   "source": [
    "# export\n",
    "import bokeh\n",
    "from bokeh.plotting import output_file, show\n",
    "from bokeh.models import Label\n",
    "from chamomile.chart.style import Style\n",
    "from bokeh.models.ranges import FactorRange"
   ]
  },
  {
   "cell_type": "code",
   "execution_count": 18,
   "metadata": {},
   "outputs": [],
   "source": [
    "#export\n",
    "class Chart:\n",
    "    def __init__(self, x_axis_type='linear', y_axis_type='linear', x_range=None, plot_width: int=None, plot_height: int=None):\n",
    "        if plot_width == None:\n",
    "            self.plot_width = 800\n",
    "        else:\n",
    "            self.plot_width = plot_width\n",
    "        if plot_height == None:\n",
    "            self.plot_height = 500\n",
    "        else:\n",
    "            self.plot_height = plot_height\n",
    "\n",
    "        self.style = Style(self)\n",
    "        self.figure = self._initialize_figure(x_axis_type, y_axis_type)\n",
    "        self.style._apply_settings('chart')\n",
    "        self._subtitle_glyph = self._add_subtitle_to_figure()\n",
    "\n",
    "\n",
    "    def _initialize_figure(self, x_axis_type, y_axis_type):\n",
    "        x_range = None\n",
    "        y_range = None\n",
    "\n",
    "        if x_axis_type == 'categorical':\n",
    "            x_range = []\n",
    "        if y_axis_type == 'categorical':\n",
    "            y_range = []\n",
    "        if x_axis_type == 'categorical' or y_axis_type == 'categorical':\n",
    "            figure = bokeh.plotting.figure(x_range = x_range, y_range=y_range,\n",
    "                                       plot_width = self.plot_width, plot_height=self.plot_height)\n",
    "        else:\n",
    "            figure = bokeh.plotting.figure(x_axis_type = x_axis_type, y_axis_type=y_axis_type,\n",
    "                                       plot_width = self.plot_width, plot_height=self.plot_height)\n",
    "        return figure\n",
    "\n",
    "\n",
    "    def mask(self):\n",
    "        pass\n",
    "\n",
    "    def set_notion(self, title=None, subtitle=None, x_axis_label=None, y_axis_label=None,source=None):\n",
    "        if title:\n",
    "            self.set_title(title)\n",
    "        if subtitle:\n",
    "            self.set_subtitle(subtitle)\n",
    "        if x_axis_label:\n",
    "            self.set_x_axis_label(x_axis_label)\n",
    "        if y_axis_label:\n",
    "            self.set_y_axis_label(y_axis_label)\n",
    "        if source:\n",
    "            self.set_source(source)\n",
    "        return self\n",
    "\n",
    "    def _add_source_to_figure(self):\n",
    "        source_text = \"\"\n",
    "        source_text_color = '#898989'\n",
    "        source_font_size= '10px'\n",
    "        _source = Label(\n",
    "            x=self.style.plot_width * .9,\n",
    "            y=0,\n",
    "            x_units='screen',\n",
    "            y_units='screen',\n",
    "            level='overlay',\n",
    "            text=source_text,\n",
    "            text_color=source_text_color,\n",
    "            text_font_size=source_font_size,\n",
    "            text_align='right',\n",
    "            name='data_source'\n",
    "        )\n",
    "        self.figure.add_layout(_source, 'below')\n",
    "        return _source\n",
    "    \n",
    "    def _add_subtitle_to_figure(self, subtitle_text=None):\n",
    "        if subtitle_text is None:\n",
    "            subtitle_text = \"\"\n",
    "        subtitle_settings = self.style._get_settings('subtitle')\n",
    "        _subtitle_glyph = bokeh.models.Title(\n",
    "            text = subtitle_text,\n",
    "            align = subtitle_settings['subtitle_align'],\n",
    "            text_color = subtitle_settings['subtitle_text_color'],\n",
    "\n",
    "        )\n",
    "\n",
    "        self.figure.add_layout(_subtitle_glyph, subtitle_settings['subtitle_location'])\n",
    "        return _subtitle_glyph\n",
    "\n",
    "    def set_x_axis_label(self, x_axis_label):\n",
    "        return self\n",
    "\n",
    "    def set_y_axis_label(self, y_axis_label):\n",
    "        return self\n",
    "\n",
    "    def set_subtitle(self, subtitle):\n",
    "        self._subtitle_glyph.text = subtitle\n",
    "        return self\n",
    "\n",
    "    def set_source(self, source):\n",
    "        self._source.text = source\n",
    "        return self\n",
    "\n",
    "\n",
    "    def set_title(self, title):\n",
    "        \"\"\"Set the chart title.\n",
    "        Args:\n",
    "            title (str): Title text.\n",
    "        Returns:\n",
    "            Current chart object\n",
    "        \"\"\"\n",
    "        self.figure.title.text = title\n",
    "        return self\n",
    "\n",
    "    def show(self, format='html'):\n",
    "            \"\"\"Show the chart.\n",
    "            Args:\n",
    "                format (str):\n",
    "                    - 'html': Output chart as HTML.\n",
    "                        Renders faster and allows for interactivity.\n",
    "                        Charts saved as HTML in a Jupyter notebooks\n",
    "                        WILL NOT display on Github.\n",
    "                        Logos will not display on HTML charts.\n",
    "                        Recommended when drafting plots.\n",
    "                    - 'png': Output chart as PNG.\n",
    "                        Easy to copy+paste into slides.\n",
    "                        Will render logos.\n",
    "                        Recommended when the plot is in a finished state.\n",
    "                    - 'svg': Output as SVG.\n",
    "                    \"\"\"\n",
    "            self._set_toolbar_for_format(format)\n",
    "\n",
    "            if format == 'html':\n",
    "                return bokeh.io.show(self.figure)\n",
    "            elif format == 'png':\n",
    "                image = self._figure_to_png()\n",
    "                # Need to re-enable this when logos are added back.\n",
    "                # image = self.logo._add_logo_to_image(image)\n",
    "                return display(image)\n",
    "            elif format == 'svg':\n",
    "                return self._show_svg()\n"
   ]
  },
  {
   "cell_type": "code",
   "execution_count": 19,
   "metadata": {},
   "outputs": [
    {
     "data": {
      "text/plain": [
       "<__main__.Chart at 0x1172180b8>"
      ]
     },
     "execution_count": 19,
     "metadata": {},
     "output_type": "execute_result"
    }
   ],
   "source": []
  },
  {
   "cell_type": "code",
   "execution_count": null,
   "metadata": {},
   "outputs": [],
   "source": []
  },
  {
   "cell_type": "code",
   "execution_count": null,
   "metadata": {},
   "outputs": [],
   "source": []
  }
 ],
 "metadata": {
  "hide_input": false,
  "kernelspec": {
   "display_name": "Python 3",
   "language": "python",
   "name": "python3"
  },
  "language_info": {
   "codemirror_mode": {
    "name": "ipython",
    "version": 3
   },
   "file_extension": ".py",
   "mimetype": "text/x-python",
   "name": "python",
   "nbconvert_exporter": "python",
   "pygments_lexer": "ipython3",
   "version": "3.7.0"
  },
  "toc": {
   "base_numbering": 1,
   "nav_menu": {},
   "number_sections": true,
   "sideBar": true,
   "skip_h1_title": false,
   "title_cell": "Table of Contents",
   "title_sidebar": "Contents",
   "toc_cell": false,
   "toc_position": {},
   "toc_section_display": true,
   "toc_window_display": false
  }
 },
 "nbformat": 4,
 "nbformat_minor": 4
}
