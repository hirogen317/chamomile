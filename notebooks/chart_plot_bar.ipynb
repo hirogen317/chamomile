{
 "cells": [
  {
   "cell_type": "code",
   "execution_count": null,
   "metadata": {},
   "outputs": [],
   "source": [
    "# default_exp chart.plot_bar"
   ]
  },
  {
   "cell_type": "code",
   "execution_count": 1,
   "metadata": {},
   "outputs": [],
   "source": [
    "%load_ext autoreload\n",
    "%autoreload"
   ]
  },
  {
   "cell_type": "code",
   "execution_count": 2,
   "metadata": {},
   "outputs": [
    {
     "name": "stderr",
     "output_type": "stream",
     "text": [
      "/Users/hao.yan/.pyenv/versions/3.7.0/lib/python3.7/site-packages/pandas/compat/__init__.py:117: UserWarning: Could not import the lzma module. Your installed Python is incomplete. Attempting to use lzma compression will result in a RuntimeError.\n",
      "  warnings.warn(msg)\n"
     ]
    }
   ],
   "source": [
    "# export\n",
    "from chamomile.chart.chart import Chart\n",
    "from chamomile.chart.data_model import construct_categorical_data\n",
    "import pandas as pd\n",
    "from bokeh.models.ranges import FactorRange, Range1d\n",
    "from bokeh.io import show"
   ]
  },
  {
   "cell_type": "code",
   "execution_count": null,
   "metadata": {},
   "outputs": [],
   "source": [
    "def add_sum(df, category):\n",
    "    "
   ]
  },
  {
   "cell_type": "code",
   "execution_count": 18,
   "metadata": {},
   "outputs": [],
   "source": [
    "# export\n",
    "class PlotBar():\n",
    "    \n",
    "    def __init__(self, chart = None):\n",
    "        if chart is None:\n",
    "            self._chart = Chart(x_axis_type='categorical', plot_width=600, plot_height=400) \n",
    "    \n",
    "    @property\n",
    "    def chart(self):\n",
    "        return self._chart\n",
    "    \n",
    "    def set_properties(**kwargs):\n",
    "        if 'title' in kwargs:\n",
    "            self._chart.set_title(kwargs['title'])\n",
    "        return self\n",
    "    \n",
    "    def bar(self, data_frame: pd.DataFrame, category: str=None, value: float=None, text: str=None, color: str=None, title: str=None):\n",
    "        source = construct_categorical_data(data_frame, c_col=c_col, v_col=v_col, text_col=text_col)\n",
    "        print(source.data)\n",
    "        p = self._chart.figure\n",
    "        if title is not None:\n",
    "            self._chart.set_title(title)\n",
    "        \n",
    "        p.x_range = FactorRange(factors=data_frame[c_col].values)\n",
    "        print(data_frame[c_col].values)\n",
    "        p.y_range = Range1d(0, data_frame[v_col].max() * 1.1)\n",
    "        p.vbar(x='category', top='value', width=0.5, source=source)\n",
    "\n",
    "        return self\n",
    "    \n",
    "    def bar_stacked(self, data_frame: pd.DataFrame, category: str=None, value: str=None, \n",
    "                    stack: str=None, text: str=None, color: str=None, title: str=None):\n",
    "        return self\n",
    "    \n",
    "    def bar_cascade(self, data_frame: ):\n",
    "        return self\n",
    "    \n",
    "    def bar_transition(self, data_frame: ):\n",
    "        return self\n",
    "    \n",
    "    def show(self):\n",
    "        show(self._chart.figure)"
   ]
  },
  {
   "cell_type": "code",
   "execution_count": null,
   "metadata": {},
   "outputs": [],
   "source": [
    "\n"
   ]
  },
  {
   "cell_type": "code",
   "execution_count": 19,
   "metadata": {},
   "outputs": [
    {
     "data": {
      "text/html": [
       "<div>\n",
       "<style scoped>\n",
       "    .dataframe tbody tr th:only-of-type {\n",
       "        vertical-align: middle;\n",
       "    }\n",
       "\n",
       "    .dataframe tbody tr th {\n",
       "        vertical-align: top;\n",
       "    }\n",
       "\n",
       "    .dataframe thead th {\n",
       "        text-align: right;\n",
       "    }\n",
       "</style>\n",
       "<table border=\"1\" class=\"dataframe\">\n",
       "  <thead>\n",
       "    <tr style=\"text-align: right;\">\n",
       "      <th></th>\n",
       "      <th>fruits</th>\n",
       "      <th>cnt</th>\n",
       "    </tr>\n",
       "  </thead>\n",
       "  <tbody>\n",
       "    <tr>\n",
       "      <th>0</th>\n",
       "      <td>apple</td>\n",
       "      <td>300</td>\n",
       "    </tr>\n",
       "    <tr>\n",
       "      <th>1</th>\n",
       "      <td>melon</td>\n",
       "      <td>200</td>\n",
       "    </tr>\n",
       "    <tr>\n",
       "      <th>2</th>\n",
       "      <td>kaki</td>\n",
       "      <td>500</td>\n",
       "    </tr>\n",
       "  </tbody>\n",
       "</table>\n",
       "</div>"
      ],
      "text/plain": [
       "  fruits  cnt\n",
       "0  apple  300\n",
       "1  melon  200\n",
       "2   kaki  500"
      ]
     },
     "execution_count": 19,
     "metadata": {},
     "output_type": "execute_result"
    }
   ],
   "source": [
    "data = {\n",
    "    'fruits': ['apple', 'melon', 'kaki'],\n",
    "    'cnt': [300, 200, 500]\n",
    "}\n",
    "\n",
    "df = pd.DataFrame(data)\n",
    "df"
   ]
  },
  {
   "cell_type": "code",
   "execution_count": 20,
   "metadata": {},
   "outputs": [
    {
     "name": "stdout",
     "output_type": "stream",
     "text": [
      "{'category': array(['apple', 'melon', 'kaki'], dtype=object), 'value': array([300, 200, 500]), 'text': array([300, 200, 500])}\n",
      "['apple' 'melon' 'kaki']\n"
     ]
    },
    {
     "data": {
      "text/plain": [
       "<__main__.PlotBar at 0x11bdab748>"
      ]
     },
     "execution_count": 20,
     "metadata": {},
     "output_type": "execute_result"
    }
   ],
   "source": [
    "plotbar = PlotBar()\n",
    "plotbar.bar(df, c_col='fruits', v_col='cnt', text_col='cnt', title = 'Fruits number')"
   ]
  },
  {
   "cell_type": "code",
   "execution_count": 21,
   "metadata": {},
   "outputs": [],
   "source": [
    "plotbar.show()"
   ]
  },
  {
   "cell_type": "code",
   "execution_count": null,
   "metadata": {},
   "outputs": [],
   "source": []
  },
  {
   "cell_type": "code",
   "execution_count": null,
   "metadata": {
    "hidePrompt": true
   },
   "outputs": [],
   "source": []
  },
  {
   "cell_type": "code",
   "execution_count": null,
   "metadata": {},
   "outputs": [],
   "source": []
  }
 ],
 "metadata": {
  "hide_input": false,
  "kernelspec": {
   "display_name": "Python 3",
   "language": "python",
   "name": "python3"
  },
  "language_info": {
   "codemirror_mode": {
    "name": "ipython",
    "version": 3
   },
   "file_extension": ".py",
   "mimetype": "text/x-python",
   "name": "python",
   "nbconvert_exporter": "python",
   "pygments_lexer": "ipython3",
   "version": "3.7.0"
  },
  "toc": {
   "base_numbering": 1,
   "nav_menu": {},
   "number_sections": true,
   "sideBar": true,
   "skip_h1_title": false,
   "title_cell": "Table of Contents",
   "title_sidebar": "Contents",
   "toc_cell": false,
   "toc_position": {},
   "toc_section_display": true,
   "toc_window_display": false
  }
 },
 "nbformat": 4,
 "nbformat_minor": 4
}
