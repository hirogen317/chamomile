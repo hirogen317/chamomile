{
 "cells": [
  {
   "cell_type": "code",
   "execution_count": 1,
   "metadata": {},
   "outputs": [],
   "source": [
    "# default_exp utils.web"
   ]
  },
  {
   "cell_type": "markdown",
   "metadata": {},
   "source": [
    "# utils.web\n",
    "\n",
    "> Web related utils. Supporting screenshot of web page / get webpage contents, scrape webpage etc.\n",
    "\n",
    "- toc: True"
   ]
  },
  {
   "cell_type": "code",
   "execution_count": null,
   "metadata": {},
   "outputs": [],
   "source": []
  },
  {
   "cell_type": "code",
   "execution_count": 2,
   "metadata": {},
   "outputs": [],
   "source": [
    "from selenium import webdriver"
   ]
  },
  {
   "cell_type": "code",
   "execution_count": 4,
   "metadata": {},
   "outputs": [],
   "source": [
    "def create_iphone_driver(driver_path=None):\n",
    "    iphone = {\n",
    "        'agent': '--user-agent=Mozilla/5.0 (iPhone; CPU iPhone OS 10_2 like Mac OS X) AppleWebKit/602.3.12 (KHTML, like Gecko) Version/10.0 Mobile/14C92 Safari/602.1',\n",
    "        'screen_width': 414,\n",
    "        'screen_height': 736\n",
    "    }\n",
    "    options = webdriver.ChromeOptions()\n",
    "    options.add_argument(iphone['agent'])\n",
    "    options.add_argument('--headless')\n",
    "    # needed: see https://stackoverflow.com/questions/50642308/webdriverexception-unknown-error-devtoolsactiveport-file-doesnt-exist-while-t\n",
    "    options.add_argument(\"--no-sandbox\")\n",
    "    options.add_argument(\"--disable-dev-shm-usage\")\n",
    "    \n",
    "    chromedriver = driver_path\n",
    "    driver = webdriver.Chrome(chrome_options=options, executable_path=chromedriver)\n",
    "\n",
    "    driver.set_window_size(iphone['screen_width'], iphone['screen_height'])\n",
    "    return driver"
   ]
  },
  {
   "cell_type": "code",
   "execution_count": 3,
   "metadata": {},
   "outputs": [],
   "source": [
    "def screen_shoot(url):\n",
    "    SCROLL_PAUSE_TIME = 1\n",
    "    LOADING_TIME = 3\n",
    "    driver = create_iphone_driver()\n",
    "    driver.get(url)\n",
    "\n",
    "    sleep(LOADING_TIME)\n",
    "    last_height = 0\n",
    "    total_height = driver.execute_script(\"return document.body.scrollHeight;\")\n",
    "    view_height = driver.execute_script(\"return window.innerHeight;\")\n",
    "    view_width = driver.execute_script(\"return window.innerHeight;\")\n",
    "    stitched_image = Image.new(\"RGBA\", (view_width, total_height))\n",
    "\n",
    "    scroll_height = 0\n",
    "    while scroll_height < total_height:\n",
    "        driver.execute_script(\"window.scrollTo(%d, %d)\" % (0, scroll_height))\n",
    "        img = Image.open(io.BytesIO(driver.get_screenshot_as_png()))\n",
    "\n",
    "        if scroll_height + view_height >= total_height:  # need cropping\n",
    "            new_height = total_height - scroll_height\n",
    "            stitched_image.paste(img.crop((0, view_height - new_height, view_width, view_height)), (0, scroll_height))\n",
    "        else:\n",
    "            new_height = view_height\n",
    "            stitched_image.paste(img, (0, scroll_height))\n",
    "        scroll_height += view_height\n",
    "        sleep(2)\n",
    "    image = stitched_image\n",
    "    page_width = driver.execute_script('return document.body.scrollWidth')\n",
    "    page_height = driver.execute_script('return document.body.scrollHeight')\n",
    "    driver.set_window_size(page_width, page_height)\n",
    "    image = Image.open(io.BytesIO(driver.get_screenshot_as_png()))\n",
    "    driver.close()\n",
    "    return image\n"
   ]
  },
  {
   "cell_type": "code",
   "execution_count": null,
   "metadata": {},
   "outputs": [],
   "source": []
  }
 ],
 "metadata": {
  "kernelspec": {
   "display_name": "Python 3",
   "language": "python",
   "name": "python3"
  },
  "language_info": {
   "codemirror_mode": {
    "name": "ipython",
    "version": 3
   },
   "file_extension": ".py",
   "mimetype": "text/x-python",
   "name": "python",
   "nbconvert_exporter": "python",
   "pygments_lexer": "ipython3",
   "version": "3.7.6"
  }
 },
 "nbformat": 4,
 "nbformat_minor": 4
}
