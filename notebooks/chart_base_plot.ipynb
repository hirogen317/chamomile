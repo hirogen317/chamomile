{
 "cells": [
  {
   "cell_type": "code",
   "execution_count": 14,
   "metadata": {},
   "outputs": [],
   "source": [
    "# default_exp chart.base_plot"
   ]
  },
  {
   "cell_type": "code",
   "execution_count": 15,
   "metadata": {},
   "outputs": [
    {
     "name": "stdout",
     "output_type": "stream",
     "text": [
      "The autoreload extension is already loaded. To reload it, use:\n",
      "  %reload_ext autoreload\n"
     ]
    }
   ],
   "source": [
    "%load_ext autoreload\n",
    "%autoreload"
   ]
  },
  {
   "cell_type": "code",
   "execution_count": 16,
   "metadata": {},
   "outputs": [],
   "source": [
    "#export\n",
    "from chamomile.chart.chart import Chart\n",
    "from bokeh.io import show\n",
    "from bokeh.io import output_notebook\n",
    "from chamomile.chart.color import ColorDefault, ColorContrast2\n",
    "from bokeh.models.formatters import DatetimeTickFormatter, NumeralTickFormatter"
   ]
  },
  {
   "cell_type": "code",
   "execution_count": 17,
   "metadata": {},
   "outputs": [],
   "source": [
    "#export\n",
    "class BasePlot():\n",
    "    \n",
    "    def __init__(self, chart=None, x_axis_type='linear', y_axis_type='linear', palette=None):\n",
    "        if chart is None:\n",
    "            self._chart = Chart(x_axis_type=x_axis_type, y_axis_type=y_axis_type, plot_width=600, plot_height=400)\n",
    "        self.color_cursor = 0\n",
    "        if palette is None:\n",
    "            palette = ColorContrast2()\n",
    "        self._palette = palette\n",
    "        \n",
    "    def hide_x():\n",
    "        self._chart.figure.xaxis.major_tick_line_color = None\n",
    "        self._chart.figure.xaxis.minor_tick_line_color = None\n",
    "        \n",
    "    def hide_y():\n",
    "        self._chart.figure.yaxis.major_tick_line_color = None\n",
    "        self._chart.figure.yaxis.minor_tick_line_color = None\n",
    "    \n",
    "    def tick_formater(self, data_type):\n",
    "        if data_type == 'datetime':\n",
    "            formatter = DatetimeTickFormatter(**dict(\n",
    "                            days='%Y-%m-%d',\n",
    "                            months='%Y-%m',\n",
    "                            hours='%Y-%m-%d %H',\n",
    "                            minutes='%Y-%m-%d %H:%M'))\n",
    "        elif data_type == 'integer':\n",
    "            formatter = NumeralTickFormatter(format='0,0')\n",
    "        return formatter\n",
    "    \n",
    "    def set_properties(self, **kwargs):\n",
    "        if 'title' in kwargs:\n",
    "            self._chart.set_title(kwargs['title'])\n",
    "        if 'subtitle' in kwargs:\n",
    "            self._chart.set_subtitle(kwargs['subtitle'])\n",
    "        return self\n",
    "    \n",
    "    def show(self):\n",
    "        show(self._chart.figure)\n",
    "    \n",
    "    def set_palette(self, palette):\n",
    "        self._palette = palette\n",
    "        \n",
    "    def next_color(self):\n",
    "        return self._palette.next_color()\n",
    "        \n",
    "    @property\n",
    "    def chart(self):\n",
    "        return self._chart\n",
    "    "
   ]
  },
  {
   "cell_type": "code",
   "execution_count": null,
   "metadata": {},
   "outputs": [],
   "source": []
  },
  {
   "cell_type": "code",
   "execution_count": null,
   "metadata": {},
   "outputs": [],
   "source": []
  },
  {
   "cell_type": "code",
   "execution_count": null,
   "metadata": {},
   "outputs": [],
   "source": []
  }
 ],
 "metadata": {
  "kernelspec": {
   "display_name": "Python 3",
   "language": "python",
   "name": "python3"
  },
  "language_info": {
   "codemirror_mode": {
    "name": "ipython",
    "version": 3
   },
   "file_extension": ".py",
   "mimetype": "text/x-python",
   "name": "python",
   "nbconvert_exporter": "python",
   "pygments_lexer": "ipython3",
   "version": "3.7.0"
  }
 },
 "nbformat": 4,
 "nbformat_minor": 4
}
