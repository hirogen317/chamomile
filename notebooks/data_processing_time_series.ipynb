{
 "cells": [
  {
   "cell_type": "code",
   "execution_count": 4,
   "metadata": {},
   "outputs": [],
   "source": [
    "# default_exp data_processing.time_series"
   ]
  },
  {
   "cell_type": "code",
   "execution_count": 2,
   "metadata": {},
   "outputs": [
    {
     "name": "stderr",
     "output_type": "stream",
     "text": [
      "/Users/hao.yan/.local/share/virtualenvs/chamomile-Jm9o6Nds/lib/python3.7/site-packages/pandas/compat/__init__.py:117: UserWarning: Could not import the lzma module. Your installed Python is incomplete. Attempting to use lzma compression will result in a RuntimeError.\n",
      "  warnings.warn(msg)\n"
     ]
    }
   ],
   "source": [
    "# export\n",
    "import numpy as np\n",
    "import pandas as pd\n",
    "import sys\n",
    "import os\n",
    "from scipy import stats"
   ]
  },
  {
   "cell_type": "code",
   "execution_count": 3,
   "metadata": {},
   "outputs": [],
   "source": [
    "# export\n",
    "def cast_date(series, to='month', type='str'):\n",
    "    if to == 'month':\n",
    "        fmt = '%Y-%m'\n",
    "        dt_type = 'datetime64[M]'\n",
    "    elif to == 'day':\n",
    "        fmt = '%Y-%m-%d'\n",
    "        dt_type = 'datetime64[D]'\n",
    "    if type == 'str':\n",
    "        return pd.to_datetime(series).dt.strftime(fmt)\n",
    "    elif type == 'datetime':\n",
    "        return pd.to_datetime(series).astype(dt_type)\n",
    "\n"
   ]
  },
  {
   "cell_type": "code",
   "execution_count": 6,
   "metadata": {},
   "outputs": [],
   "source": [
    "#export\n",
    "\n",
    "def count_time_value(dataframe, ts_col, group_cols, by='day'):\n",
    "    df = dataframe.copy()\n",
    "    df[f'ts_{by}'] = cast_date(df[ts_col], to=by)\n",
    "\n",
    "    groups = [f'ts_{by}']\n",
    "    groups.extend(group_cols)\n",
    "\n",
    "    return df.groupby(groups).size().reset_index(name='counts')"
   ]
  },
  {
   "cell_type": "code",
   "execution_count": 5,
   "metadata": {},
   "outputs": [],
   "source": [
    "#export\n",
    "def time_over_time(data_frame: pd.DataFrame = None, ts: str=None, value: str=None\n",
    "                          , groups: str=None, shift: int=1, drop_last_value: bool=False)->pd.DataFrame:\n",
    "    \"\"\"\n",
    "    \n",
    "    return: series that contains time over time\n",
    "    \"\"\"\n",
    "    df = data_frame.copy()\n",
    "    if groups:\n",
    "        last_value_col = 'last_{g_col}_{v_col}'.format(g_col='_'.join(groups), v_col=value)\n",
    "        df[last_value_col] = df.groupby(groups)[value].shift(shift)\n",
    "    else:\n",
    "        last_value_col = 'last_{v_col}'.format(v_col=value)\n",
    "        df[last_value_col] = df[value].shift(shift)\n",
    "\n",
    "    tot_col = '{value}_{u}o{u}_{shift}'.format(value=value, u=ts[0], shift=shift)\n",
    "    df[tot_col] = df[value] / df[last_value_col]\n",
    "    \n",
    "    return df[tot_col]"
   ]
  },
  {
   "cell_type": "code",
   "execution_count": null,
   "metadata": {},
   "outputs": [],
   "source": []
  }
 ],
 "metadata": {
  "hide_input": false,
  "kernelspec": {
   "display_name": "Python 3",
   "language": "python",
   "name": "python3"
  },
  "language_info": {
   "codemirror_mode": {
    "name": "ipython",
    "version": 3
   },
   "file_extension": ".py",
   "mimetype": "text/x-python",
   "name": "python",
   "nbconvert_exporter": "python",
   "pygments_lexer": "ipython3",
   "version": "3.7.0"
  },
  "toc": {
   "base_numbering": 1,
   "nav_menu": {},
   "number_sections": true,
   "sideBar": true,
   "skip_h1_title": false,
   "title_cell": "Table of Contents",
   "title_sidebar": "Contents",
   "toc_cell": false,
   "toc_position": {},
   "toc_section_display": true,
   "toc_window_display": false
  }
 },
 "nbformat": 4,
 "nbformat_minor": 4
}
