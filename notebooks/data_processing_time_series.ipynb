{
 "cells": [
  {
   "cell_type": "code",
   "execution_count": 4,
   "metadata": {},
   "outputs": [],
   "source": [
    "# default_exp data_processing.time_series"
   ]
  },
  {
   "cell_type": "code",
   "execution_count": 1,
   "metadata": {},
   "outputs": [],
   "source": [
    "# export\n",
    "import numpy as np\n",
    "import pandas as pd\n",
    "import sys\n",
    "import os\n",
    "from scipy import stats"
   ]
  },
  {
   "cell_type": "code",
   "execution_count": 6,
   "metadata": {},
   "outputs": [],
   "source": [
    "# export\n",
    "def cast_date(series, to='month', type='str'):\n",
    "    if to == 'month':\n",
    "        fmt = '%Y-%m'\n",
    "        dt_type = 'datetime64[M]'\n",
    "    elif to == 'day':\n",
    "        fmt = '%Y-%m-%d'\n",
    "        dt_type = 'datetime64[D]'\n",
    "    if type == 'str':\n",
    "        return pd.to_datetime(series).dt.strftime(fmt)\n",
    "    elif type == 'datetime':\n",
    "        return pd.to_datetime(series).astype(dt_type)\n",
    "\n",
    "\n",
    "def count_time_value(dataframe, ts_col, group_cols, by='day'):\n",
    "    df = dataframe.copy()\n",
    "    df[f'ts_{by}'] = cast_date(df[ts_col], to=by)\n",
    "\n",
    "    groups = [f'ts_{by}']\n",
    "    groups.extend(group_cols)\n",
    "\n",
    "    return df.groupby(groups).size().reset_index(name='counts')"
   ]
  },
  {
   "cell_type": "code",
   "execution_count": null,
   "metadata": {},
   "outputs": [],
   "source": []
  },
  {
   "cell_type": "code",
   "execution_count": 7,
   "metadata": {},
   "outputs": [],
   "source": [
    "#export\n",
    "def time_over_time(data_frame: pd.DataFrame = None, ts_col: str=None, v_col: str=None\n",
    "                          , g_col: str=None, shift: int=1, drop_last_value: bool=False)->pd.DataFrame:\n",
    "    \"\"\"\n",
    "    \n",
    "    return: series that contains time over time\n",
    "    \"\"\"\n",
    "    df = data_frame.copy()\n",
    "    if g_col:\n",
    "        last_value_col = 'last_{g_col}_{v_col}'.format(g_col=g_col, v_col=v_col)\n",
    "        df[last_value_col] = df.groupby(g_col)[v_col].shift(shift)\n",
    "    else:\n",
    "        last_value_col = 'last_{v_col}'.format(v_col=v_col)\n",
    "        df[last_value_col] = df[v_col].shift(shift)\n",
    "\n",
    "    tot_col = '{value}_{u}o{u}_{shift}'.format(value=v_col, u=ts_col[0], shift=shift)\n",
    "    df[tot_col] = df[v_col] / df[last_value_col]\n",
    "    \n",
    "    return df[tot_col]"
   ]
  },
  {
   "cell_type": "code",
   "execution_count": null,
   "metadata": {},
   "outputs": [],
   "source": []
  }
 ],
 "metadata": {
  "hide_input": false,
  "kernelspec": {
   "display_name": "Python 3",
   "language": "python",
   "name": "python3"
  },
  "language_info": {
   "codemirror_mode": {
    "name": "ipython",
    "version": 3
   },
   "file_extension": ".py",
   "mimetype": "text/x-python",
   "name": "python",
   "nbconvert_exporter": "python",
   "pygments_lexer": "ipython3",
   "version": "3.7.3"
  },
  "toc": {
   "base_numbering": 1.0,
   "nav_menu": {},
   "number_sections": true,
   "sideBar": true,
   "skip_h1_title": false,
   "title_cell": "Table of Contents",
   "title_sidebar": "Contents",
   "toc_cell": false,
   "toc_position": {},
   "toc_section_display": true,
   "toc_window_display": false
  }
 },
 "nbformat": 4,
 "nbformat_minor": 4
}
