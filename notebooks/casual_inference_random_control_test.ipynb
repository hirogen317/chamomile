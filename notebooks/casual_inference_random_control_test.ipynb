{
 "cells": [
  {
   "cell_type": "code",
   "execution_count": null,
   "metadata": {
    "collapsed": true
   },
   "outputs": [],
   "source": [
    "# default_exp casual_inference.random_control_test"
   ]
  },
  {
   "cell_type": "markdown",
   "metadata": {},
   "source": [
    "# casual_inference.random_control_test\n",
    "\n",
    "> Class provide data format tools for Random Control Test\n",
    "\n",
    "- toc: True"
   ]
  },
  {
   "cell_type": "code",
   "execution_count": null,
   "metadata": {},
   "outputs": [],
   "source": [
    "\n",
    "class RandomControlTest:\n",
    "    def __init__(self):\n",
    "        pass\n",
    "    \n",
    "    def report(self):\n",
    "        pass\n",
    "    \n",
    "    def calculate_sample_size(self):\n",
    "        pass\n",
    "    \n",
    "    def t_test(self):\n",
    "        pass\n",
    "    \n",
    "    def chi2_test(self):\n",
    "        pass\n",
    "    \n",
    "    def u_test(self):\n",
    "        pass\n",
    "    \n"
   ]
  }
 ],
 "metadata": {
  "kernelspec": {
   "display_name": "Python 2",
   "language": "python",
   "name": "python2"
  },
  "language_info": {
   "codemirror_mode": {
    "name": "ipython",
    "version": 2
   },
   "file_extension": ".py",
   "mimetype": "text/x-python",
   "name": "python",
   "nbconvert_exporter": "python",
   "pygments_lexer": "ipython2",
   "version": "2.7.6"
  }
 },
 "nbformat": 4,
 "nbformat_minor": 0
}
