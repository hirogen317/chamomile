{
 "cells": [
  {
   "cell_type": "code",
   "execution_count": 1,
   "metadata": {},
   "outputs": [],
   "source": [
    "# default_exp data_processing.numeric"
   ]
  },
  {
   "cell_type": "markdown",
   "metadata": {},
   "source": [
    "# data_processing.numeric\n",
    "\n",
    "> Numeric related data processing\n",
    "\n",
    "- toc: True"
   ]
  },
  {
   "cell_type": "code",
   "execution_count": 4,
   "metadata": {},
   "outputs": [],
   "source": [
    "#export\n",
    "import pandas as pd"
   ]
  },
  {
   "cell_type": "code",
   "execution_count": 3,
   "metadata": {},
   "outputs": [],
   "source": [
    "# export\n",
    "def moving_average(data_frame: pd.DataFrame = None,\n",
    "                          window: int=7,\n",
    "                          group_col: str = None,\n",
    "                          value_col: str = None,\n",
    "                          shift=0)->pd.DataFrame:\n",
    "    df = data_frame.copy()\n",
    "    ma_col = '{value_col}_ma{window}'.format(value_col=value_col, window=window)\n",
    "    if group_col is None:\n",
    "        df[ma_col] = df[value_col].rolling(window=window).mean().shift(periods=shift)\n",
    "    else:\n",
    "        df[ma_col] = df.groupby(group_col)[value_col].apply(lambda x: x.rolling(window=window).mean().shift(periods=shift))\n",
    "    return df[ma_col]"
   ]
  },
  {
   "cell_type": "code",
   "execution_count": null,
   "metadata": {},
   "outputs": [],
   "source": []
  }
 ],
 "metadata": {
  "kernelspec": {
   "display_name": "Python 3",
   "language": "python",
   "name": "python3"
  },
  "language_info": {
   "codemirror_mode": {
    "name": "ipython",
    "version": 3
   },
   "file_extension": ".py",
   "mimetype": "text/x-python",
   "name": "python",
   "nbconvert_exporter": "python",
   "pygments_lexer": "ipython3",
   "version": "3.7.0"
  }
 },
 "nbformat": 4,
 "nbformat_minor": 4
}
